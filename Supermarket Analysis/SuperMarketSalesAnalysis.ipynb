{
 "cells": [
  {
   "cell_type": "code",
   "execution_count": 4,
   "id": "94b702da",
   "metadata": {},
   "outputs": [],
   "source": [
    "import pandas as pd\n",
    "import numpy as np"
   ]
  },
  {
   "cell_type": "code",
   "execution_count": 6,
   "id": "53fedf34",
   "metadata": {},
   "outputs": [],
   "source": [
    "# load in the data from a csv file\n",
    "data = pd.read_csv(\"/home/kosimadukwe/supermarket_sales.csv\", sep=\",\")\n"
   ]
  },
  {
   "cell_type": "code",
   "execution_count": 8,
   "id": "fd67c759",
   "metadata": {},
   "outputs": [
    {
     "name": "stdout",
     "output_type": "stream",
     "text": [
      "<bound method DataFrame.transpose of     Invoice ID Branch       City Customer type  Gender  \\\n",
      "0  750-67-8428      A     Yangon        Member  Female   \n",
      "1  226-31-3081      C  Naypyitaw        Normal  Female   \n",
      "2  631-41-3108      A     Yangon        Normal    Male   \n",
      "3  123-19-1176      A     Yangon        Member    Male   \n",
      "4  373-73-7910      A     Yangon        Normal    Male   \n",
      "\n",
      "             Product line  Unit price  Quantity   Tax 5%     Total  \\\n",
      "0       Health and beauty       74.69         7  26.1415  548.9715   \n",
      "1  Electronic accessories       15.28         5   3.8200   80.2200   \n",
      "2      Home and lifestyle       46.33         7  16.2155  340.5255   \n",
      "3       Health and beauty       58.22         8  23.2880  489.0480   \n",
      "4       Sports and travel       86.31         7  30.2085  634.3785   \n",
      "\n",
      "         Date         Time      Payment    cogs  gross margin percentage  \\\n",
      "0  01-05-2019   1:08:00 PM      Ewallet  522.83                 4.761905   \n",
      "1  03-08-2019  10:29:00 AM         Cash   76.40                 4.761905   \n",
      "2  03-03-2019   1:23:00 PM  Credit card  324.31                 4.761905   \n",
      "3   1/27/2019   8:33:00 PM      Ewallet  465.76                 4.761905   \n",
      "4  02-08-2019  10:37:00 AM      Ewallet  604.17                 4.761905   \n",
      "\n",
      "   gross income  Rating  \n",
      "0       26.1415     9.1  \n",
      "1        3.8200     9.6  \n",
      "2       16.2155     7.4  \n",
      "3       23.2880     8.4  \n",
      "4       30.2085     5.3  >\n"
     ]
    }
   ],
   "source": [
    "# peep at the first 5 rows to see the column titles\n",
    "print(data.head().transpose)"
   ]
  },
  {
   "cell_type": "code",
   "execution_count": 9,
   "id": "59aada1f",
   "metadata": {},
   "outputs": [
    {
     "name": "stdout",
     "output_type": "stream",
     "text": [
      "Invoice ID                  object\n",
      "Branch                      object\n",
      "City                        object\n",
      "Customer type               object\n",
      "Gender                      object\n",
      "Product line                object\n",
      "Unit price                 float64\n",
      "Quantity                     int64\n",
      "Tax 5%                     float64\n",
      "Total                      float64\n",
      "Date                        object\n",
      "Time                        object\n",
      "Payment                     object\n",
      "cogs                       float64\n",
      "gross margin percentage    float64\n",
      "gross income               float64\n",
      "Rating                     float64\n",
      "dtype: object\n"
     ]
    }
   ],
   "source": [
    "# inspect the data types of all the columns to see if its expected\n",
    "print(data.dtypes)"
   ]
  },
  {
   "cell_type": "code",
   "execution_count": 10,
   "id": "94a13138",
   "metadata": {},
   "outputs": [],
   "source": [
    "# convert the wrong data types to the correct one\n",
    "data[['Branch', 'City', 'Customer type', 'Gender', 'Product line', 'Payment']] \\\n",
    "    = data[['Branch', 'City', 'Customer type', 'Gender', 'Product line', 'Payment']].astype(\"string\")"
   ]
  },
  {
   "cell_type": "code",
   "execution_count": 11,
   "id": "496d083e",
   "metadata": {},
   "outputs": [],
   "source": [
    "# the Date column column contains different formats 00/00/0000 and 00-00-0000\n",
    "data['Date'] = pd.to_datetime(data['Date'], dayfirst=True)"
   ]
  },
  {
   "cell_type": "code",
   "execution_count": 12,
   "id": "161b0b65",
   "metadata": {},
   "outputs": [],
   "source": [
    "# i would like to split  this into specific columns\n",
    "data['Year'] = data['Date'].dt.year\n",
    "data['Month'] = data['Date'].dt.month\n",
    "data['Day'] = data['Date'].dt.day"
   ]
  },
  {
   "cell_type": "code",
   "execution_count": 13,
   "id": "ee3308e1",
   "metadata": {},
   "outputs": [
    {
     "name": "stdout",
     "output_type": "stream",
     "text": [
      "The top product lines by total sales are :                               Total\n",
      "Product line                      \n",
      "Food and beverages      56144.8440\n",
      "Sports and travel       55122.8265\n",
      "Electronic accessories  54337.5315\n",
      "Fashion accessories     54305.8950\n",
      "Home and lifestyle      53861.9130\n",
      "Health and beauty       49193.7390\n"
     ]
    }
   ],
   "source": [
    "'''\n",
    "Which are the Top product_line by Total sales?\n",
    "'''\n",
    "# Total Sales = (Unit Price * Quantity) + Tax 5%\n",
    "# we already have this provided in Total column, so we don't need to calculate it\n",
    "\n",
    "# to get the top sales, group Total column by Product line and then sort in descending order\n",
    "data2 = pd.DataFrame(data.groupby('Product line')['Total'].sum())\n",
    "TopProduct_line_by_Total_sales = data2.sort_values(by='Total', ascending=False)\n",
    "print(\"The top product lines by total sales are : \", TopProduct_line_by_Total_sales)\n",
    "\n",
    "#save to file for PowerBI viz\n",
    "TopProduct_line_by_Total_sales = TopProduct_line_by_Total_sales.reset_index()\n",
    "TopProduct_line_by_Total_sales.to_csv(\"TopProduct_line_by_Total_sales.csv\",index=False)"
   ]
  },
  {
   "cell_type": "code",
   "execution_count": 14,
   "id": "19c4fb8b",
   "metadata": {},
   "outputs": [
    {
     "name": "stdout",
     "output_type": "stream",
     "text": [
      "The top product line by quantity sold are :                          Quantity\n",
      "Product line                    \n",
      "Electronic accessories       971\n",
      "Food and beverages           952\n",
      "Sports and travel            920\n",
      "Home and lifestyle           911\n",
      "Fashion accessories          902\n",
      "Health and beauty            854\n"
     ]
    }
   ],
   "source": [
    "'''\n",
    "Which are the most selling product_line?\n",
    "'''\n",
    "# this is determined by the quantity of each product line sold\n",
    "# Assumption made: The Quantity column refers to Quantity Sold and not Quantity Available/Produced\n",
    "\n",
    "# to get the top selling product line, group Quantity column by Product line and then sort in descending order\n",
    "data2 = pd.DataFrame(data.groupby('Product line')['Quantity'].sum())\n",
    "TopProduct_line_by_QuantitySold = data2.sort_values(by='Quantity', ascending=False)\n",
    "print(\"The top product line by quantity sold are : \", TopProduct_line_by_QuantitySold)\n",
    "\n",
    "#save to file for PowerBI viz\n",
    "TopProduct_line_by_QuantitySold = TopProduct_line_by_QuantitySold.reset_index()\n",
    "TopProduct_line_by_QuantitySold.to_csv(\"TopProduct_line_by_QuantitySold.csv\",index=False)\n"
   ]
  },
  {
   "cell_type": "code",
   "execution_count": 16,
   "id": "f46b7ec9",
   "metadata": {},
   "outputs": [
    {
     "name": "stdout",
     "output_type": "stream",
     "text": [
      "The Most Preferred Payment Methods :               Payment\n",
      "Ewallet          345\n",
      "Cash             344\n",
      "Credit card      311\n"
     ]
    }
   ],
   "source": [
    "'''\n",
    "Which are the most preferred payment mode?\n",
    "'''\n",
    "# count the unique occurrences from the Payment column\n",
    "\n",
    "Preferred_Payment = pd.DataFrame(data['Payment'].value_counts(sort=True))\n",
    "print(\"The Most Preferred Payment Methods : \", Preferred_Payment)\n",
    "#save to file for PowerBI viz\n",
    "Preferred_Payment = Preferred_Payment.reset_index()\n",
    "Preferred_Payment.to_csv(\"Preferred_Payment_Mode.csv\",index=False)\n"
   ]
  },
  {
   "cell_type": "code",
   "execution_count": 19,
   "id": "6a425c4a",
   "metadata": {},
   "outputs": [
    {
     "name": "stdout",
     "output_type": "stream",
     "text": [
      "The Most Preferred Payment Methods for Male :           index  Payment\n",
      "0      Ewallet      185\n",
      "1         Cash      166\n",
      "2  Credit card      148\n",
      "The Most Preferred Payment Methods for Female :           index  Payment\n",
      "0         Cash      178\n",
      "1  Credit card      163\n",
      "2      Ewallet      160\n"
     ]
    }
   ],
   "source": [
    "'''\n",
    "The most preferred means of payment for Each gender.\n",
    "'''\n",
    "# group Preferred_Payment by Gender\n",
    "# for each gender, redo the above preferred payment process\n",
    "\n",
    "# subset the dataframe where Gender == Male\n",
    "Male_subset = data.loc[data['Gender'] == \"Male\"]\n",
    "Preferred_Payment1 = pd.DataFrame(Male_subset['Payment'].value_counts(sort=True))\n",
    "      \n",
    "#save to file for PowerBI viz\n",
    "Preferred_Payment1 = Preferred_Payment1.reset_index()\n",
    "Preferred_Payment1.to_csv(\"Preferred_Payment_Mode_Male.csv\",index=False)\n",
    "print(\"The Most Preferred Payment Methods for Male : \", Preferred_Payment1)\n",
    "\n",
    "# subset the dataframe where Gender == Female\n",
    "Female_subset = data.loc[data['Gender'] == \"Female\"]\n",
    "Preferred_Payment2 = pd.DataFrame(Female_subset['Payment'].value_counts(sort=True))\n",
    "\n",
    "#save to file for PowerBI viz\n",
    "Preferred_Payment2 = Preferred_Payment2.reset_index()\n",
    "Preferred_Payment2.to_csv(\"Preferred_Payment_Mode_Female.csv\",index=False)\n",
    "print(\"The Most Preferred Payment Methods for Female : \", Preferred_Payment2)\n"
   ]
  },
  {
   "cell_type": "code",
   "execution_count": 20,
   "id": "9953c58e",
   "metadata": {},
   "outputs": [
    {
     "name": "stdout",
     "output_type": "stream",
     "text": [
      "Top Spending Gender for each Product line :                                Male      Female Top Spending Gender\n",
      "Product line                                                      \n",
      "Electronic accessories  27235.5090  27102.0225                Male\n",
      "Fashion accessories     23868.4950  30437.4000              Female\n",
      "Food and beverages      22973.9265  33170.9175              Female\n",
      "Health and beauty       30632.7525  18560.9865                Male\n",
      "Home and lifestyle      23825.0355  30036.8775              Female\n",
      "Sports and travel       26548.1055  28574.7210              Female\n"
     ]
    }
   ],
   "source": [
    "'''\n",
    "Which Gender spends the most amount on each product_line?\n",
    "'''\n",
    "# for each of the product line show the top spending gender\n",
    "\n",
    "# subset the dataframe where Gender == Male\n",
    "Male_subset = data.loc[data['Gender'] == \"Male\"]\n",
    "Product_line_by_Total_sales_Males = pd.DataFrame(Male_subset.groupby(\"Product line\")['Total'].sum())\n",
    "# renaming this so we can merge with the female df\n",
    "Product_line_by_Total_sales_Males.rename(columns={'Total': 'Male'}, inplace=True)\n",
    "\n",
    "\n",
    "# subset the dataframe where Gender == Female\n",
    "Female_subset = data.loc[data['Gender'] == \"Female\"]\n",
    "Product_line_by_Total_sales_Females = pd.DataFrame(Female_subset.groupby(\"Product line\")['Total'].sum())\n",
    "# renaming this so we can merge with the male df\n",
    "Product_line_by_Total_sales_Females.rename(columns={'Total': 'Female'}, inplace=True)\n",
    "\n",
    "# merge the male and female aggregated tables\n",
    "PL_by_TS_Male_Female = Product_line_by_Total_sales_Males.merge(Product_line_by_Total_sales_Females, on='Product line')\n",
    "\n",
    "# compare the contents of two columns based on multiple conditions and assigned values to a new column\n",
    "\n",
    "conditions = ((PL_by_TS_Male_Female['Male'] > PL_by_TS_Male_Female['Female']),\n",
    "              (PL_by_TS_Male_Female['Male'] < PL_by_TS_Male_Female['Female']),\n",
    "              (PL_by_TS_Male_Female['Male'] == PL_by_TS_Male_Female['Female']))\n",
    "choices = ['Male', 'Female', 'Both']\n",
    "PL_by_TS_Male_Female['Top Spending Gender'] = np.select(conditions, choices, default=np.nan)\n",
    "print('Top Spending Gender for each Product line : ', PL_by_TS_Male_Female)\n",
    "\n",
    "#save to file for PowerBI viz\n",
    "PL_by_TS_Male_Female = PL_by_TS_Male_Female.reset_index()\n",
    "PL_by_TS_Male_Female.to_csv(\"Top_Spending_Gender_Per_ProductLine.csv\",index=False)\n"
   ]
  },
  {
   "cell_type": "code",
   "execution_count": 21,
   "id": "8278adfa",
   "metadata": {},
   "outputs": [
    {
     "name": "stdout",
     "output_type": "stream",
     "text": [
      "Total_Amount_Spent_By_Males 155083.824\n",
      "Total_Amount_Spent_By_Females 167882.925\n",
      "Females spent the highest total amount: 167882.925\n"
     ]
    }
   ],
   "source": [
    "'''\n",
    "Which Gender spends the highest amount in total?\n",
    "'''\n",
    "print(\"Total_Amount_Spent_By_Males\", Male_subset['Total'].sum())\n",
    "print(\"Total_Amount_Spent_By_Females\", Female_subset['Total'].sum())\n",
    "\n",
    "if Male_subset['Total'].sum() > Female_subset['Total'].sum():\n",
    "    print(\"Males spent the highest total amount : {}\".format(Male_subset['Total'].sum()))\n",
    "else:\n",
    "    print(\"Females spent the highest total amount: {}\".format(Female_subset['Total'].sum()))\n",
    "\n"
   ]
  },
  {
   "cell_type": "code",
   "execution_count": 22,
   "id": "7f030a61",
   "metadata": {},
   "outputs": [
    {
     "name": "stdout",
     "output_type": "stream",
     "text": [
      "Top rated product is Fashion accessories with 1251.0 total ratings: \n"
     ]
    }
   ],
   "source": [
    "'''\n",
    "Top rated product_line.\n",
    "'''\n",
    "# aggregate the product line via their rating using groupby\n",
    "TopRated = pd.DataFrame(data.groupby('Product line')['Rating'].sum())\n",
    "\n",
    "# round up to a whole number\n",
    "TopRated['Rating'] = TopRated['Rating'].round(decimals=0)\n",
    "\n",
    "# sort\n",
    "TopRated = TopRated.sort_values(by='Rating', ascending=False)\n",
    "\n",
    "# convert the index to a column\n",
    "TopRated = TopRated.reset_index()\n",
    "\n",
    "# show result\n",
    "print('Top rated product is {} with {} total ratings: '.format(TopRated['Product line'][0], TopRated['Rating'][0]))\n",
    "\n",
    "#save to file for PowerBI viz\n",
    "TopRated.to_csv(\"Top_Rated.csv\",index=False)"
   ]
  },
  {
   "cell_type": "code",
   "execution_count": null,
   "id": "80bf3163",
   "metadata": {},
   "outputs": [],
   "source": []
  }
 ],
 "metadata": {
  "kernelspec": {
   "display_name": "Python 3 (ipykernel)",
   "language": "python",
   "name": "python3"
  },
  "language_info": {
   "codemirror_mode": {
    "name": "ipython",
    "version": 3
   },
   "file_extension": ".py",
   "mimetype": "text/x-python",
   "name": "python",
   "nbconvert_exporter": "python",
   "pygments_lexer": "ipython3",
   "version": "3.9.9"
  }
 },
 "nbformat": 4,
 "nbformat_minor": 5
}
